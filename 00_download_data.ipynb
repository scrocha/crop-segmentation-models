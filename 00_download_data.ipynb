{
 "cells": [
  {
   "cell_type": "code",
   "execution_count": 1,
   "id": "793c5094",
   "metadata": {},
   "outputs": [],
   "source": [
    "from bdc_downloader import *"
   ]
  },
  {
   "cell_type": "code",
   "execution_count": 2,
   "id": "c48fded9",
   "metadata": {},
   "outputs": [],
   "source": [
    "mt_data = get_municipality_data(\"MT\")\n",
    "campo_verde = mt_data[mt_data[\"name_muni\"] == \"Campo Verde\"]"
   ]
  },
  {
   "cell_type": "code",
   "execution_count": 3,
   "id": "d6dedaba",
   "metadata": {},
   "outputs": [
    {
     "data": {
      "text/html": [
       "<div>\n",
       "<style scoped>\n",
       "    .dataframe tbody tr th:only-of-type {\n",
       "        vertical-align: middle;\n",
       "    }\n",
       "\n",
       "    .dataframe tbody tr th {\n",
       "        vertical-align: top;\n",
       "    }\n",
       "\n",
       "    .dataframe thead th {\n",
       "        text-align: right;\n",
       "    }\n",
       "</style>\n",
       "<table border=\"1\" class=\"dataframe\">\n",
       "  <thead>\n",
       "    <tr style=\"text-align: right;\">\n",
       "      <th></th>\n",
       "      <th>code_muni</th>\n",
       "      <th>name_muni</th>\n",
       "      <th>code_state</th>\n",
       "      <th>abbrev_state</th>\n",
       "      <th>name_state</th>\n",
       "      <th>code_region</th>\n",
       "      <th>name_region</th>\n",
       "      <th>geometry</th>\n",
       "    </tr>\n",
       "  </thead>\n",
       "  <tbody>\n",
       "    <tr>\n",
       "      <th>22</th>\n",
       "      <td>5102678.0</td>\n",
       "      <td>Campo Verde</td>\n",
       "      <td>51.0</td>\n",
       "      <td>MT</td>\n",
       "      <td>Mato Grosso</td>\n",
       "      <td>5.0</td>\n",
       "      <td>Centro Oeste</td>\n",
       "      <td>MULTIPOLYGON (((-54.69703 -14.95348, -54.69683...</td>\n",
       "    </tr>\n",
       "  </tbody>\n",
       "</table>\n",
       "</div>"
      ],
      "text/plain": [
       "    code_muni    name_muni  code_state abbrev_state   name_state  code_region  \\\n",
       "22  5102678.0  Campo Verde        51.0           MT  Mato Grosso          5.0   \n",
       "\n",
       "     name_region                                           geometry  \n",
       "22  Centro Oeste  MULTIPOLYGON (((-54.69703 -14.95348, -54.69683...  "
      ]
     },
     "execution_count": 3,
     "metadata": {},
     "output_type": "execute_result"
    }
   ],
   "source": [
    "campo_verde.to_file(\"./dados/campo_verde.geojson\", driver=\"GeoJSON\")\n",
    "campo_verde"
   ]
  },
  {
   "cell_type": "code",
   "execution_count": 4,
   "id": "d59f69d2",
   "metadata": {},
   "outputs": [],
   "source": [
    "bbox = campo_verde.total_bounds.tolist()"
   ]
  },
  {
   "cell_type": "code",
   "execution_count": 5,
   "id": "879d0f65",
   "metadata": {},
   "outputs": [],
   "source": [
    "client = get_stac_client()\n",
    "collections_available = get_available_collections(client)"
   ]
  },
  {
   "cell_type": "code",
   "execution_count": 6,
   "id": "32684043",
   "metadata": {},
   "outputs": [],
   "source": [
    "s2_collections = [c for c in collections_available if \"s2\" in c.lower()]\n",
    "# for collection in s2_collections:\n",
    "#     print(collection)\n",
    "#     print(get_collection_assets_metadata(collection, client).keys())\n",
    "#     available_dates = get_collection_available_dates(collection, client)\n",
    "#     print(available_dates[0].date(), \"-\", available_dates[-1].date())\n",
    "\n",
    "#     print()"
   ]
  },
  {
   "cell_type": "code",
   "execution_count": 7,
   "id": "6d3d5bb4",
   "metadata": {},
   "outputs": [],
   "source": [
    "cerrado_4m = \"mosaic-s2-cerrado-4m-1\"\n",
    "\n",
    "cerrado_2m = \"mosaic-s2-cerrado-2m-1\""
   ]
  },
  {
   "cell_type": "code",
   "execution_count": 8,
   "id": "ab08f0d9",
   "metadata": {},
   "outputs": [
    {
     "data": {
      "text/plain": [
       "{'visual': {'title': 'False Color Composition of the mosaic. Contains Sentinel-2 Bands B04, B08 and B03.',\n",
       "  'description': None,\n",
       "  'media_type': 'image/tiff; application=geotiff; profile=cloud-optimized',\n",
       "  'roles': ['data']},\n",
       " 'thumbnail': {'title': 'Thumbnail',\n",
       "  'description': None,\n",
       "  'media_type': 'image/png',\n",
       "  'roles': ['thumbnail']}}"
      ]
     },
     "execution_count": 8,
     "metadata": {},
     "output_type": "execute_result"
    }
   ],
   "source": [
    "get_collection_assets_metadata(cerrado_4m, client)"
   ]
  },
  {
   "cell_type": "code",
   "execution_count": 9,
   "id": "9674f39d",
   "metadata": {},
   "outputs": [
    {
     "data": {
      "text/plain": [
       "{'visual': {'title': 'False Color Composition of the mosaic. Contains Sentinel-2 Bands B04, B08 and B03.',\n",
       "  'description': None,\n",
       "  'media_type': 'image/tiff; application=geotiff; profile=cloud-optimized',\n",
       "  'roles': ['data']},\n",
       " 'thumbnail': {'title': 'Thumbnail',\n",
       "  'description': None,\n",
       "  'media_type': 'image/png',\n",
       "  'roles': ['thumbnail']}}"
      ]
     },
     "execution_count": 9,
     "metadata": {},
     "output_type": "execute_result"
    }
   ],
   "source": [
    "get_collection_assets_metadata(cerrado_2m, client)"
   ]
  },
  {
   "cell_type": "code",
   "execution_count": 10,
   "id": "d8ad1dd2",
   "metadata": {},
   "outputs": [],
   "source": [
    "date_range = \"2017-07-12/2025-07-13\"\n",
    "assets = \"visual\""
   ]
  },
  {
   "cell_type": "code",
   "execution_count": 11,
   "id": "bb5e213b",
   "metadata": {},
   "outputs": [
    {
     "name": "stdout",
     "output_type": "stream",
     "text": [
      "Found 6 items in the collection mosaic-s2-cerrado-4m-1.\n"
     ]
    }
   ],
   "source": [
    "items = search_stac_items(\n",
    "    cerrado_4m,\n",
    "    bbox=bbox,\n",
    "    datetime=date_range,\n",
    "    cloud_cover_lt=10000,\n",
    "    limit=50,\n",
    "    client=client,\n",
    ")\n",
    "print(f\"Found {len(items)} items in the collection {cerrado_4m}.\")"
   ]
  },
  {
   "cell_type": "code",
   "execution_count": 12,
   "id": "d3ac1e06",
   "metadata": {},
   "outputs": [
    {
     "name": "stdout",
     "output_type": "stream",
     "text": [
      "Download do asset 'visual' concluído.\n",
      "Download do asset 'visual' concluído.\n",
      "Download do asset 'visual' concluído.\n",
      "Download do asset 'visual' concluído.\n",
      "Download do asset 'visual' concluído.\n",
      "Download do asset 'visual' concluído.\n"
     ]
    }
   ],
   "source": [
    "from threading import Thread\n",
    "\n",
    "threads = []\n",
    "for item in items:\n",
    "    thread = Thread(\n",
    "        target=download_item_assets,\n",
    "        args=(\n",
    "            item,\n",
    "            \"./dados\",\n",
    "            assets,\n",
    "        ),\n",
    "    )\n",
    "    thread.start()\n",
    "    threads.append(thread)\n",
    "\n",
    "for thread in threads:\n",
    "    thread.join()"
   ]
  },
  {
   "cell_type": "code",
   "execution_count": 13,
   "id": "339492a4",
   "metadata": {},
   "outputs": [
    {
     "name": "stdout",
     "output_type": "stream",
     "text": [
      "Encontrados 6 mosaicos.\n",
      "Mosaico concatenado e recortado salvo em: ./dados/campo_verde_merged_clip.tif\n"
     ]
    }
   ],
   "source": [
    "import rasterio\n",
    "from rasterio.merge import merge\n",
    "from rasterio.mask import mask\n",
    "import glob\n",
    "import os\n",
    "\n",
    "mosaic_pattern = os.path.join(\"./dados\", \"MOSAIC-S2-CERRADO-4M*\", \"*VISUAL.tif\")\n",
    "mosaic_files = glob.glob(mosaic_pattern)\n",
    "print(f\"Encontrados {len(mosaic_files)} mosaicos.\")\n",
    "\n",
    "datasets = [rasterio.open(fp) for fp in mosaic_files]\n",
    "merged_array, merged_transform = merge(datasets)\n",
    "profile = datasets[0].profile.copy()\n",
    "profile.update({\n",
    "    'height': merged_array.shape[1],\n",
    "    'width': merged_array.shape[2],\n",
    "    'transform': merged_transform\n",
    "})\n",
    "for ds in datasets:\n",
    "    ds.close()\n",
    "\n",
    "if campo_verde.crs != profile['crs']:\n",
    "    aoi = campo_verde.to_crs(profile['crs'])\n",
    "else:\n",
    "    aoi = campo_verde\n",
    "\n",
    "with rasterio.io.MemoryFile() as memfile:\n",
    "    with memfile.open(**profile) as merged_ds:\n",
    "        merged_ds.write(merged_array)\n",
    "        clipped_array, clipped_transform = mask(merged_ds, aoi.geometry, crop=True)\n",
    "        out_profile = merged_ds.profile.copy()\n",
    "\n",
    "out_profile.update({\n",
    "    'height': clipped_array.shape[1],\n",
    "    'width': clipped_array.shape[2],\n",
    "    'transform': clipped_transform\n",
    "})\n",
    "\n",
    "output_path = \"./dados/campo_verde_merged_clip.tif\"\n",
    "os.makedirs(os.path.dirname(output_path), exist_ok=True)\n",
    "with rasterio.open(output_path, 'w', **out_profile) as dst:\n",
    "    dst.write(clipped_array)\n",
    "\n",
    "print(f\"Mosaico concatenado e recortado salvo em: {output_path}\")"
   ]
  },
  {
   "cell_type": "code",
   "execution_count": 23,
   "id": "f710db75",
   "metadata": {},
   "outputs": [
    {
     "name": "stdout",
     "output_type": "stream",
     "text": [
      "Diretório criado: ./dados/patches_campo_verde\n",
      "Processando a imagem: ./dados/campo_verde_merged_clip.tif\n",
      "Dimensões da imagem: 12476 x 11651\n",
      "CRS: PROJCS[\"unknown\",GEOGCS[\"unknown\",DATUM[\"Unknown_based_on_GRS80_ellipsoid\",SPHEROID[\"GRS 1980\",6378137,298.257222101004,AUTHORITY[\"EPSG\",\"7019\"]]],PRIMEM[\"Greenwich\",0],UNIT[\"degree\",0.0174532925199433,AUTHORITY[\"EPSG\",\"9122\"]]],PROJECTION[\"Albers_Conic_Equal_Area\"],PARAMETER[\"latitude_of_center\",-12],PARAMETER[\"longitude_of_center\",-54],PARAMETER[\"standard_parallel_1\",-2],PARAMETER[\"standard_parallel_2\",-22],PARAMETER[\"false_easting\",5000000],PARAMETER[\"false_northing\",10000000],UNIT[\"metre\",1,AUTHORITY[\"EPSG\",\"9001\"]],AXIS[\"Easting\",EAST],AXIS[\"Northing\",NORTH]]\n",
      "Total de 84 patches salvos em ./dados/patches_campo_verde\n"
     ]
    }
   ],
   "source": [
    "from rasterio.windows import Window\n",
    "import numpy as np\n",
    "\n",
    "def criar_patches(imagem_tif_path, saida_dir, tamanho_patch=1024, sobreposicao=512):\n",
    "    if not os.path.exists(saida_dir):\n",
    "        os.makedirs(saida_dir)\n",
    "        print(f\"Diretório criado: {saida_dir}\")\n",
    "\n",
    "    print(f\"Processando a imagem: {imagem_tif_path}\")\n",
    "    with rasterio.open(imagem_tif_path) as src:\n",
    "        altura, largura = src.height, src.width\n",
    "        transform_original = src.transform\n",
    "        crs_original = src.crs\n",
    "        profile = src.profile.copy()\n",
    "\n",
    "        print(f\"Dimensões da imagem: {largura} x {altura}\")\n",
    "        print(f\"CRS: {crs_original}\")\n",
    "\n",
    "        passo = tamanho_patch - sobreposicao\n",
    "        nome_base = os.path.splitext(os.path.basename(imagem_tif_path))[0]\n",
    "        patches_criados = 0\n",
    "\n",
    "        for i in range(0, altura, passo):\n",
    "            for j in range(0, largura, passo):\n",
    "                col_off, row_off = j, i\n",
    "                col_size = min(tamanho_patch, largura - j)\n",
    "                row_size = min(tamanho_patch, altura - i)\n",
    "\n",
    "                if col_size < tamanho_patch // 2 or row_size < tamanho_patch // 2:\n",
    "                    continue\n",
    "\n",
    "                window = Window(col_off, row_off, col_size, row_size)\n",
    "                patch_data = src.read(window=window)\n",
    "\n",
    "                if np.all(patch_data == 0):\n",
    "                    continue\n",
    "\n",
    "                patch_transform = rasterio.windows.transform(window, transform_original)\n",
    "                patch_profile = profile.copy()\n",
    "                patch_profile.update({\n",
    "                    'height': row_size,\n",
    "                    'width': col_size,\n",
    "                    'transform': patch_transform,\n",
    "                })\n",
    "\n",
    "                nome_patch = f\"{nome_base}_bloco_{row_off}_{col_off}.tif\"\n",
    "                caminho_saida = os.path.join(saida_dir, nome_patch)\n",
    "                with rasterio.open(caminho_saida, 'w', **patch_profile) as dst:\n",
    "                    dst.write(patch_data)\n",
    "\n",
    "                patches_criados += 1\n",
    "\n",
    "        print(f\"Total de {patches_criados} patches salvos em {saida_dir}\")\n",
    "\n",
    "criar_patches(output_path, \"./dados/patches_campo_verde\", tamanho_patch=1028, sobreposicao=64)"
   ]
  },
  {
   "cell_type": "code",
   "execution_count": 15,
   "id": "b30607a0",
   "metadata": {},
   "outputs": [],
   "source": [
    "from urllib.request import urlretrieve"
   ]
  },
  {
   "cell_type": "code",
   "execution_count": 16,
   "id": "68f44c28",
   "metadata": {},
   "outputs": [],
   "source": [
    "link_map_biomas = \"https://storage.googleapis.com/mapbiomas-public/initiatives/brasil/lulc_10m/collection_2/integration/mapbiomas_10m_collection2_integration_v1-classification_2022.tif\"\n",
    "path = (\n",
    "    \"./dados/mapbiomas_10m_collection2_integration_v1-classification_2022.tif\"\n",
    ")"
   ]
  },
  {
   "cell_type": "code",
   "execution_count": 17,
   "id": "31faa6a0",
   "metadata": {},
   "outputs": [
    {
     "data": {
      "text/plain": [
       "('./dados/mapbiomas_10m_collection2_integration_v1-classification_2022.tif',\n",
       " <http.client.HTTPMessage at 0x7780a2839710>)"
      ]
     },
     "execution_count": 17,
     "metadata": {},
     "output_type": "execute_result"
    }
   ],
   "source": [
    "urlretrieve(link_map_biomas, path)"
   ]
  },
  {
   "cell_type": "code",
   "execution_count": 18,
   "id": "0bd0e014",
   "metadata": {},
   "outputs": [
    {
     "name": "stdout",
     "output_type": "stream",
     "text": [
      "CRS são diferentes. Reprojetando o shapefile...\n",
      "MapBiomas recortado salvo em: ./dados/mapbiomas_campo_verde.tif\n"
     ]
    }
   ],
   "source": [
    "with rasterio.open(path) as src:\n",
    "    if aoi.crs != src.crs:\n",
    "        print(\"CRS são diferentes. Reprojetando o shapefile...\")\n",
    "        aoi_reprojetado = aoi.to_crs(src.crs)\n",
    "    else:\n",
    "        aoi_reprojetado = aoi\n",
    "    \n",
    "    clipped_mb, clipped_transform = mask(\n",
    "        src, aoi_reprojetado.geometry, crop=True\n",
    "    )\n",
    "\n",
    "    mb_profile = src.profile.copy()\n",
    "\n",
    "mb_profile.update({\n",
    "    \"height\": clipped_mb.shape[1],\n",
    "    \"width\": clipped_mb.shape[2],\n",
    "    \"transform\": clipped_transform\n",
    "})\n",
    "\n",
    "output_mb = \"./dados/mapbiomas_campo_verde.tif\"\n",
    "os.makedirs(os.path.dirname(output_mb), exist_ok=True)\n",
    "with rasterio.open(output_mb, \"w\", **mb_profile) as dst:\n",
    "    dst.write(clipped_mb)\n",
    "\n",
    "os.remove(path)\n",
    "\n",
    "print(f\"MapBiomas recortado salvo em: {output_mb}\")"
   ]
  }
 ],
 "metadata": {
  "kernelspec": {
   "display_name": "segmentation-models (3.11.13)",
   "language": "python",
   "name": "python3"
  },
  "language_info": {
   "codemirror_mode": {
    "name": "ipython",
    "version": 3
   },
   "file_extension": ".py",
   "mimetype": "text/x-python",
   "name": "python",
   "nbconvert_exporter": "python",
   "pygments_lexer": "ipython3",
   "version": "3.11.13"
  }
 },
 "nbformat": 4,
 "nbformat_minor": 5
}
